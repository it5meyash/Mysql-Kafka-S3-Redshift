{
 "cells": [
  {
   "cell_type": "code",
   "execution_count": 2,
   "metadata": {},
   "outputs": [],
   "source": [
    "from pyspark.sql import SparkSession"
   ]
  },
  {
   "cell_type": "code",
   "execution_count": 3,
   "metadata": {},
   "outputs": [
    {
     "name": "stdout",
     "output_type": "stream",
     "text": [
      ":: loading settings :: url = jar:file:/usr/local/lib/python3.8/dist-packages/pyspark/jars/ivy-2.5.0.jar!/org/apache/ivy/core/settings/ivysettings.xml\n"
     ]
    },
    {
     "name": "stderr",
     "output_type": "stream",
     "text": [
      "Ivy Default Cache set to: /root/.ivy2/cache\n",
      "The jars for the packages stored in: /root/.ivy2/jars\n",
      "mysql#mysql-connector-java added as a dependency\n",
      ":: resolving dependencies :: org.apache.spark#spark-submit-parent-f841a2c1-fa97-4bbf-b4b5-ae3eff5db5ff;1.0\n",
      "\tconfs: [default]\n",
      "\tfound mysql#mysql-connector-java;8.0.11 in central\n",
      "\tfound com.google.protobuf#protobuf-java;2.6.0 in central\n",
      "downloading https://repo1.maven.org/maven2/mysql/mysql-connector-java/8.0.11/mysql-connector-java-8.0.11.jar ...\n",
      "\t[SUCCESSFUL ] mysql#mysql-connector-java;8.0.11!mysql-connector-java.jar (1291ms)\n",
      "downloading https://repo1.maven.org/maven2/com/google/protobuf/protobuf-java/2.6.0/protobuf-java-2.6.0.jar ...\n",
      "\t[SUCCESSFUL ] com.google.protobuf#protobuf-java;2.6.0!protobuf-java.jar(bundle) (521ms)\n",
      ":: resolution report :: resolve 13335ms :: artifacts dl 1977ms\n",
      "\t:: modules in use:\n",
      "\tcom.google.protobuf#protobuf-java;2.6.0 from central in [default]\n",
      "\tmysql#mysql-connector-java;8.0.11 from central in [default]\n",
      "\t---------------------------------------------------------------------\n",
      "\t|                  |            modules            ||   artifacts   |\n",
      "\t|       conf       | number| search|dwnlded|evicted|| number|dwnlded|\n",
      "\t---------------------------------------------------------------------\n",
      "\t|      default     |   2   |   2   |   2   |   0   ||   2   |   2   |\n",
      "\t---------------------------------------------------------------------\n",
      ":: retrieving :: org.apache.spark#spark-submit-parent-f841a2c1-fa97-4bbf-b4b5-ae3eff5db5ff\n",
      "\tconfs: [default]\n",
      "\t2 artifacts copied, 0 already retrieved (2571kB/100ms)\n",
      "23/08/01 20:39:51 WARN NativeCodeLoader: Unable to load native-hadoop library for your platform... using builtin-java classes where applicable\n",
      "Using Spark's default log4j profile: org/apache/spark/log4j-defaults.properties\n",
      "Setting default log level to \"WARN\".\n",
      "To adjust logging level use sc.setLogLevel(newLevel). For SparkR, use setLogLevel(newLevel).\n"
     ]
    }
   ],
   "source": [
    "\n",
    "# Create a SparkSession object with the specified configurations and properties\n",
    "spark_session = (\n",
    "    SparkSession.builder\n",
    "    .master(\"local[*]\")  # Specifies to run Spark locally using all available cores\n",
    "    .config('spark.jars.packages',\"mysql:mysql-connector-java:8.0.11\")  # Specifies the MySQL JDBC connector version to use\n",
    "    .appName(\"MYSQL-QUERY\")  # Specifies the application name (you can choose any name you like)\n",
    "    .getOrCreate()  # Gets an existing SparkSession or creates a new one if it doesn't exist\n",
    ")\n"
   ]
  },
  {
   "cell_type": "code",
   "execution_count": 7,
   "metadata": {},
   "outputs": [
    {
     "data": {
      "text/html": [
       "\n",
       "            <div>\n",
       "                <p><b>SparkSession - in-memory</b></p>\n",
       "                \n",
       "        <div>\n",
       "            <p><b>SparkContext</b></p>\n",
       "\n",
       "            <p><a href=\"http://145def3b5124:4040\">Spark UI</a></p>\n",
       "\n",
       "            <dl>\n",
       "              <dt>Version</dt>\n",
       "                <dd><code>v3.2.1</code></dd>\n",
       "              <dt>Master</dt>\n",
       "                <dd><code>local[*]</code></dd>\n",
       "              <dt>AppName</dt>\n",
       "                <dd><code>MYSQL-QUERY</code></dd>\n",
       "            </dl>\n",
       "        </div>\n",
       "        \n",
       "            </div>\n",
       "        "
      ],
      "text/plain": [
       "<pyspark.sql.session.SparkSession at 0x404e5aaee0>"
      ]
     },
     "execution_count": 7,
     "metadata": {},
     "output_type": "execute_result"
    }
   ],
   "source": [
    "spark_session"
   ]
  },
  {
   "cell_type": "code",
   "execution_count": 8,
   "metadata": {},
   "outputs": [],
   "source": [
    "MYSQL_URI=\"jdbc:mysql://mysql:3306/classicmodels?useSSL=false\"\n",
    "MYSQL_USER_NAME=\"root\"\n",
    "MYSQL_PASSWORD=\"example\"\n"
   ]
  },
  {
   "cell_type": "code",
   "execution_count": 9,
   "metadata": {},
   "outputs": [],
   "source": [
    "query = \"select * from customers limit 10\""
   ]
  },
  {
   "cell_type": "code",
   "execution_count": 11,
   "metadata": {},
   "outputs": [],
   "source": [
    "df = spark_session.read.format(\"jdbc\").options(\n",
    "            url=MYSQL_URI,\n",
    "            driver='com.mysql.jdbc.Driver',\n",
    "            query=query,\n",
    "            user=MYSQL_USER_NAME,\n",
    "            password=MYSQL_PASSWORD).load()"
   ]
  },
  {
   "cell_type": "code",
   "execution_count": 12,
   "metadata": {},
   "outputs": [
    {
     "name": "stdout",
     "output_type": "stream",
     "text": [
      "root\n",
      " |-- customerNumber: integer (nullable = true)\n",
      " |-- customerName: string (nullable = true)\n",
      " |-- contactLastName: string (nullable = true)\n",
      " |-- contactFirstName: string (nullable = true)\n",
      " |-- phone: string (nullable = true)\n",
      " |-- addressLine1: string (nullable = true)\n",
      " |-- addressLine2: string (nullable = true)\n",
      " |-- city: string (nullable = true)\n",
      " |-- state: string (nullable = true)\n",
      " |-- postalCode: string (nullable = true)\n",
      " |-- country: string (nullable = true)\n",
      " |-- salesRepEmployeeNumber: integer (nullable = true)\n",
      " |-- creditLimit: decimal(10,2) (nullable = true)\n",
      "\n"
     ]
    }
   ],
   "source": [
    "\n",
    "df.printSchema()"
   ]
  },
  {
   "cell_type": "code",
   "execution_count": 13,
   "metadata": {},
   "outputs": [
    {
     "name": "stderr",
     "output_type": "stream",
     "text": [
      "                                                                                \r"
     ]
    },
    {
     "name": "stdout",
     "output_type": "stream",
     "text": [
      "+--------------+--------------------+---------------+----------------+-----------------+--------------------+------------+-------------+--------+----------+---------+----------------------+-----------+\n",
      "|customerNumber|        customerName|contactLastName|contactFirstName|            phone|        addressLine1|addressLine2|         city|   state|postalCode|  country|salesRepEmployeeNumber|creditLimit|\n",
      "+--------------+--------------------+---------------+----------------+-----------------+--------------------+------------+-------------+--------+----------+---------+----------------------+-----------+\n",
      "|           103|   Atelier graphique|        Schmitt|         Carine |       40.32.2555|      54, rue Royale|        null|       Nantes|    null|     44000|   France|                  1370|   21000.00|\n",
      "|           112|  Signal Gift Stores|           King|            Jean|       7025551838|     8489 Strong St.|        null|    Las Vegas|      NV|     83030|      USA|                  1166|   71800.00|\n",
      "|           114|Australian Collec...|       Ferguson|           Peter|     03 9520 4555|   636 St Kilda Road|     Level 3|    Melbourne|Victoria|      3004|Australia|                  1611|  117300.00|\n",
      "|           119|   La Rochelle Gifts|        Labrune|         Janine |       40.67.8555|67, rue des Cinqu...|        null|       Nantes|    null|     44000|   France|                  1370|  118200.00|\n",
      "|           121|  Baane Mini Imports|     Bergulfsen|          Jonas |       07-98 9555|Erling Skakkes ga...|        null|      Stavern|    null|      4110|   Norway|                  1504|   81700.00|\n",
      "|           124|Mini Gifts Distri...|         Nelson|           Susan|       4155551450|     5677 Strong St.|        null|   San Rafael|      CA|     97562|      USA|                  1165|  210500.00|\n",
      "|           125|  Havel & Zbyszek Co|Piestrzeniewicz|        Zbyszek |    (26) 642-7555|     ul. Filtrowa 68|        null|     Warszawa|    null|    01-012|   Poland|                  null|       0.00|\n",
      "|           128|Blauer See Auto, Co.|         Keitel|          Roland|+49 69 66 90 2555|       Lyonerstr. 34|        null|    Frankfurt|    null|     60528|  Germany|                  1504|   59700.00|\n",
      "|           129|     Mini Wheels Co.|         Murphy|           Julie|       6505555787|5557 North Pendal...|        null|San Francisco|      CA|     94217|      USA|                  1165|   64600.00|\n",
      "|           131|   Land of Toys Inc.|            Lee|            Kwai|       2125557818|897 Long Airport ...|        null|          NYC|      NY|     10022|      USA|                  1323|  114900.00|\n",
      "+--------------+--------------------+---------------+----------------+-----------------+--------------------+------------+-------------+--------+----------+---------+----------------------+-----------+\n",
      "\n"
     ]
    }
   ],
   "source": [
    "df.show(10)"
   ]
  },
  {
   "cell_type": "code",
   "execution_count": 14,
   "metadata": {},
   "outputs": [
    {
     "data": {
      "text/plain": [
       "['customerNumber',\n",
       " 'customerName',\n",
       " 'contactLastName',\n",
       " 'contactFirstName',\n",
       " 'phone',\n",
       " 'addressLine1',\n",
       " 'addressLine2',\n",
       " 'city',\n",
       " 'state',\n",
       " 'postalCode',\n",
       " 'country',\n",
       " 'salesRepEmployeeNumber',\n",
       " 'creditLimit']"
      ]
     },
     "execution_count": 14,
     "metadata": {},
     "output_type": "execute_result"
    }
   ],
   "source": [
    "df.columns"
   ]
  },
  {
   "cell_type": "code",
   "execution_count": 18,
   "metadata": {},
   "outputs": [
    {
     "name": "stderr",
     "output_type": "stream",
     "text": [
      "                                                                                \r"
     ]
    },
    {
     "name": "stdout",
     "output_type": "stream",
     "text": [
      "+--------------+--------------------+---------------+----------------+------------+\n",
      "|customerNumber|        customerName|contactLastName|contactFirstName|       phone|\n",
      "+--------------+--------------------+---------------+----------------+------------+\n",
      "|           103|   Atelier graphique|        Schmitt|         Carine |  40.32.2555|\n",
      "|           112|  Signal Gift Stores|           King|            Jean|  7025551838|\n",
      "|           114|Australian Collec...|       Ferguson|           Peter|03 9520 4555|\n",
      "|           119|   La Rochelle Gifts|        Labrune|         Janine |  40.67.8555|\n",
      "|           121|  Baane Mini Imports|     Bergulfsen|          Jonas |  07-98 9555|\n",
      "+--------------+--------------------+---------------+----------------+------------+\n",
      "only showing top 5 rows\n",
      "\n"
     ]
    }
   ],
   "source": [
    "df.select(['customerNumber',\n",
    " 'customerName',\n",
    " 'contactLastName',\n",
    " 'contactFirstName',\n",
    " 'phone']).show(5)"
   ]
  },
  {
   "cell_type": "code",
   "execution_count": 20,
   "metadata": {},
   "outputs": [
    {
     "name": "stderr",
     "output_type": "stream",
     "text": [
      "[Stage 2:>                                                          (0 + 1) / 1]\r"
     ]
    },
    {
     "name": "stdout",
     "output_type": "stream",
     "text": [
      "+--------------+-----------------+---------------+----------------+----------+--------------+------------+------+-----+----------+-------+----------------------+-----------+\n",
      "|customerNumber|     customerName|contactLastName|contactFirstName|     phone|  addressLine1|addressLine2|  city|state|postalCode|country|salesRepEmployeeNumber|creditLimit|\n",
      "+--------------+-----------------+---------------+----------------+----------+--------------+------------+------+-----+----------+-------+----------------------+-----------+\n",
      "|           103|Atelier graphique|        Schmitt|         Carine |40.32.2555|54, rue Royale|        null|Nantes| null|     44000| France|                  1370|   21000.00|\n",
      "+--------------+-----------------+---------------+----------------+----------+--------------+------------+------+-----+----------+-------+----------------------+-----------+\n",
      "only showing top 1 row\n",
      "\n"
     ]
    },
    {
     "name": "stderr",
     "output_type": "stream",
     "text": [
      "                                                                                \r"
     ]
    }
   ],
   "source": [
    "df.show(1)"
   ]
  },
  {
   "cell_type": "code",
   "execution_count": 22,
   "metadata": {},
   "outputs": [
    {
     "name": "stderr",
     "output_type": "stream",
     "text": [
      "                                                                                \r"
     ]
    },
    {
     "name": "stdout",
     "output_type": "stream",
     "text": [
      "+---------------------------------------------------------------------------------------------------------------------------------------------------------------------------------------------------------------------------------------------------------------------------------------------------------------------------------------------------+\n",
      "|to_json(struct(customerNumber, customerName, contactLastName, contactFirstName, phone, addressLine1, addressLine2, city, state, postalCode, country, salesRepEmployeeNumber, creditLimit))                                                                                                                                                         |\n",
      "+---------------------------------------------------------------------------------------------------------------------------------------------------------------------------------------------------------------------------------------------------------------------------------------------------------------------------------------------------+\n",
      "|{\"customerNumber\":103,\"customerName\":\"Atelier graphique\",\"contactLastName\":\"Schmitt\",\"contactFirstName\":\"Carine \",\"phone\":\"40.32.2555\",\"addressLine1\":\"54, rue Royale\",\"city\":\"Nantes\",\"postalCode\":\"44000\",\"country\":\"France\",\"salesRepEmployeeNumber\":1370,\"creditLimit\":21000.00}                                                               |\n",
      "|{\"customerNumber\":112,\"customerName\":\"Signal Gift Stores\",\"contactLastName\":\"King\",\"contactFirstName\":\"Jean\",\"phone\":\"7025551838\",\"addressLine1\":\"8489 Strong St.\",\"city\":\"Las Vegas\",\"state\":\"NV\",\"postalCode\":\"83030\",\"country\":\"USA\",\"salesRepEmployeeNumber\":1166,\"creditLimit\":71800.00}                                                      |\n",
      "|{\"customerNumber\":114,\"customerName\":\"Australian Collectors, Co.\",\"contactLastName\":\"Ferguson\",\"contactFirstName\":\"Peter\",\"phone\":\"03 9520 4555\",\"addressLine1\":\"636 St Kilda Road\",\"addressLine2\":\"Level 3\",\"city\":\"Melbourne\",\"state\":\"Victoria\",\"postalCode\":\"3004\",\"country\":\"Australia\",\"salesRepEmployeeNumber\":1611,\"creditLimit\":117300.00}|\n",
      "|{\"customerNumber\":119,\"customerName\":\"La Rochelle Gifts\",\"contactLastName\":\"Labrune\",\"contactFirstName\":\"Janine \",\"phone\":\"40.67.8555\",\"addressLine1\":\"67, rue des Cinquante Otages\",\"city\":\"Nantes\",\"postalCode\":\"44000\",\"country\":\"France\",\"salesRepEmployeeNumber\":1370,\"creditLimit\":118200.00}                                                |\n",
      "|{\"customerNumber\":121,\"customerName\":\"Baane Mini Imports\",\"contactLastName\":\"Bergulfsen\",\"contactFirstName\":\"Jonas \",\"phone\":\"07-98 9555\",\"addressLine1\":\"Erling Skakkes gate 78\",\"city\":\"Stavern\",\"postalCode\":\"4110\",\"country\":\"Norway\",\"salesRepEmployeeNumber\":1504,\"creditLimit\":81700.00}                                                    |\n",
      "|{\"customerNumber\":124,\"customerName\":\"Mini Gifts Distributors Ltd.\",\"contactLastName\":\"Nelson\",\"contactFirstName\":\"Susan\",\"phone\":\"4155551450\",\"addressLine1\":\"5677 Strong St.\",\"city\":\"San Rafael\",\"state\":\"CA\",\"postalCode\":\"97562\",\"country\":\"USA\",\"salesRepEmployeeNumber\":1165,\"creditLimit\":210500.00}                                       |\n",
      "|{\"customerNumber\":125,\"customerName\":\"Havel & Zbyszek Co\",\"contactLastName\":\"Piestrzeniewicz\",\"contactFirstName\":\"Zbyszek \",\"phone\":\"(26) 642-7555\",\"addressLine1\":\"ul. Filtrowa 68\",\"city\":\"Warszawa\",\"postalCode\":\"01-012\",\"country\":\"Poland\",\"creditLimit\":0.00}                                                                                |\n",
      "|{\"customerNumber\":128,\"customerName\":\"Blauer See Auto, Co.\",\"contactLastName\":\"Keitel\",\"contactFirstName\":\"Roland\",\"phone\":\"+49 69 66 90 2555\",\"addressLine1\":\"Lyonerstr. 34\",\"city\":\"Frankfurt\",\"postalCode\":\"60528\",\"country\":\"Germany\",\"salesRepEmployeeNumber\":1504,\"creditLimit\":59700.00}                                                    |\n",
      "|{\"customerNumber\":129,\"customerName\":\"Mini Wheels Co.\",\"contactLastName\":\"Murphy\",\"contactFirstName\":\"Julie\",\"phone\":\"6505555787\",\"addressLine1\":\"5557 North Pendale Street\",\"city\":\"San Francisco\",\"state\":\"CA\",\"postalCode\":\"94217\",\"country\":\"USA\",\"salesRepEmployeeNumber\":1165,\"creditLimit\":64600.00}                                        |\n",
      "|{\"customerNumber\":131,\"customerName\":\"Land of Toys Inc.\",\"contactLastName\":\"Lee\",\"contactFirstName\":\"Kwai\",\"phone\":\"2125557818\",\"addressLine1\":\"897 Long Airport Avenue\",\"city\":\"NYC\",\"state\":\"NY\",\"postalCode\":\"10022\",\"country\":\"USA\",\"salesRepEmployeeNumber\":1323,\"creditLimit\":114900.00}                                                     |\n",
      "+---------------------------------------------------------------------------------------------------------------------------------------------------------------------------------------------------------------------------------------------------------------------------------------------------------------------------------------------------+\n",
      "\n"
     ]
    }
   ],
   "source": [
    "df.selectExpr(\"to_json(struct(*))\").show(truncate=False)"
   ]
  },
  {
   "cell_type": "code",
   "execution_count": 39,
   "metadata": {},
   "outputs": [],
   "source": [
    "from src.config.environment import EnvironmentVariable"
   ]
  },
  {
   "cell_type": "code",
   "execution_count": null,
   "metadata": {},
   "outputs": [],
   "source": [
    "env = EnvironmentVariable()"
   ]
  },
  {
   "cell_type": "code",
   "execution_count": 32,
   "metadata": {},
   "outputs": [],
   "source": [
    "from collections import namedtuple"
   ]
  },
  {
   "cell_type": "code",
   "execution_count": 33,
   "metadata": {},
   "outputs": [],
   "source": [
    "data = namedtuple(\"Data\",[\"id\",\"name\"])"
   ]
  },
  {
   "cell_type": "code",
   "execution_count": 35,
   "metadata": {},
   "outputs": [],
   "source": [
    "d = data(id=1,name=\"yash\")"
   ]
  },
  {
   "cell_type": "code",
   "execution_count": 36,
   "metadata": {},
   "outputs": [
    {
     "data": {
      "text/plain": [
       "'yash'"
      ]
     },
     "execution_count": 36,
     "metadata": {},
     "output_type": "execute_result"
    }
   ],
   "source": [
    "d.name"
   ]
  },
  {
   "cell_type": "code",
   "execution_count": 37,
   "metadata": {},
   "outputs": [
    {
     "ename": "NameError",
     "evalue": "name 'env' is not defined",
     "output_type": "error",
     "traceback": [
      "\u001b[0;31m---------------------------------------------------------------------------\u001b[0m",
      "\u001b[0;31mNameError\u001b[0m                                 Traceback (most recent call last)",
      "\u001b[1;32m/project/example.ipynb Cell 19\u001b[0m in \u001b[0;36m1\n\u001b[0;32m----> <a href='vscode-notebook-cell://attached-container%2B7b22636f6e7461696e65724e616d65223a222f7079737061726b227d/project/example.ipynb#X41sdnNjb2RlLXJlbW90ZQ%3D%3D?line=0'>1</a>\u001b[0m env\u001b[39m.\u001b[39mkafka_cloud\u001b[39m.\u001b[39mbootstrap_server\n",
      "\u001b[0;31mNameError\u001b[0m: name 'env' is not defined"
     ]
    }
   ],
   "source": [
    "env.kafka_cloud.bootstrap_server"
   ]
  },
  {
   "cell_type": "code",
   "execution_count": null,
   "metadata": {},
   "outputs": [],
   "source": []
  }
 ],
 "metadata": {
  "kernelspec": {
   "display_name": "Python 3",
   "language": "python",
   "name": "python3"
  },
  "language_info": {
   "codemirror_mode": {
    "name": "ipython",
    "version": 3
   },
   "file_extension": ".py",
   "mimetype": "text/x-python",
   "name": "python",
   "nbconvert_exporter": "python",
   "pygments_lexer": "ipython3",
   "version": "3.8.10"
  },
  "orig_nbformat": 4
 },
 "nbformat": 4,
 "nbformat_minor": 2
}
